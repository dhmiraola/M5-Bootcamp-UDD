{
 "cells": [
  {
   "cell_type": "code",
   "execution_count": null,
   "id": "4b726632",
   "metadata": {},
   "outputs": [],
   "source": [
    "import pandas as pd\n",
    "from numpy import loadtxt\n",
    "\n",
    "# Cargar el dataset como matriz NumPy\n",
    "dataset = loadtxt('https://raw.githubusercontent.com/jbrownlee/Datasets/master/pima-indians-diabetes.data.csv', delimiter=',')\n",
    "\n",
    "# Convertir a DataFrame de pandas\n",
    "column_names = ['Pregnancies', 'Glucose', 'BloodPressure', 'SkinThickness', \n",
    "                'Insulin', 'BMI', 'DiabetesPedigreeFunction', 'Age', 'Outcome']\n",
    "\n",
    "data = pd.DataFrame(dataset, columns=column_names)\n",
    "\n",
    "# Mostrar las primeras filas\n",
    "data.head()"
   ]
  },
  {
   "cell_type": "code",
   "execution_count": null,
   "id": "20527602-fde8-4780-965e-8e06f2f5d52f",
   "metadata": {},
   "outputs": [],
   "source": [
    "data.describe()"
   ]
  },
  {
   "cell_type": "code",
   "execution_count": null,
   "id": "a0c881d9-15cb-4190-9149-0ea0aaabe31c",
   "metadata": {},
   "outputs": [],
   "source": [
    "data.info()"
   ]
  },
  {
   "cell_type": "code",
   "execution_count": null,
   "id": "d5a35eab-286d-4f57-995a-b915c9c721f7",
   "metadata": {},
   "outputs": [],
   "source": [
    "import matplotlib.pyplot as plt\n",
    "\n",
    "# Visualizar histogramas en 5 columnas\n",
    "plt.figure(figsize=(20, 10))  # Ajustar el tamaño del gráfico\n",
    "\n",
    "for i, col in enumerate(data.columns):\n",
    "    plt.subplot((len(data.columns) + 4) // 5, 5, i + 1)  # Filas calculadas automáticamente\n",
    "    plt.hist(data[col], bins=20, color='skyblue', edgecolor='black')\n",
    "    plt.title(col)\n",
    "    plt.tight_layout()\n",
    "\n",
    "plt.show()"
   ]
  },
  {
   "cell_type": "code",
   "execution_count": null,
   "id": "51f1581a-f9da-4cec-a3e7-6fcd7eefa71e",
   "metadata": {},
   "outputs": [],
   "source": [
    "import matplotlib.pyplot as plt\n",
    "\n",
    "# Visualizar boxplots en 5 columnas\n",
    "plt.figure(figsize=(20, 10))  # Tamaño del gráfico\n",
    "\n",
    "for i, col in enumerate(data.columns):\n",
    "    plt.subplot((len(data.columns) + 4) // 5, 5, i + 1)  # 5 columnas\n",
    "    plt.boxplot(data[col])\n",
    "    plt.title(col)\n",
    "    plt.tight_layout()\n",
    "\n",
    "plt.show()\n"
   ]
  },
  {
   "cell_type": "code",
   "execution_count": null,
   "id": "8e156cdc",
   "metadata": {},
   "outputs": [],
   "source": [
    "data['Outcome'].value_counts()"
   ]
  },
  {
   "cell_type": "code",
   "execution_count": null,
   "id": "a26df2a2",
   "metadata": {},
   "outputs": [],
   "source": [
    "data.shape"
   ]
  },
  {
   "cell_type": "markdown",
   "id": "5d54a390",
   "metadata": {},
   "source": [
    "## Red Neuronal Keras"
   ]
  },
  {
   "cell_type": "code",
   "execution_count": null,
   "id": "6f4fc43d",
   "metadata": {},
   "outputs": [],
   "source": [
    "from tensorflow.keras.models import Sequential\n",
    "from tensorflow.keras.layers import Dense\n",
    "from sklearn.model_selection import train_test_split\n",
    "from sklearn.preprocessing import StandardScaler\n",
    "from tensorflow.keras.optimizers import Adam\n",
    "\n",
    "# Separar X e y\n",
    "X = data.drop('Outcome', axis=1) # variables independientes o las que utilizare para predecir\n",
    "y = data['Outcome'] # variable dependiente o la que quiero predecir\n",
    "\n",
    "# Dividir en train/test\n",
    "X_train, X_test, y_train, y_test = train_test_split(X, y, test_size=0.2, random_state=42)\n",
    "\n",
    "# Normalizar\n",
    "scaler = StandardScaler()\n",
    "X_train_norm = scaler.fit_transform(X_train)\n",
    "X_test_norm = scaler.transform(X_test)\n",
    "\n",
    "# Red neuronal más compacta\n",
    "model = Sequential([\n",
    "    Dense(128, activation='relu', input_shape=(X_train_norm.shape[1],)), # capa de entradacon 8 columnas\n",
    "    Dense(64, activation='relu'), # capa oculta o la hidden layer \n",
    "    Dense(32, activation='relu'),\n",
    "    Dense(16, activation='relu'),\n",
    "    Dense(1, activation='sigmoid') # clasificacion binaria 0 o 1\n",
    "])\n",
    "\n",
    "# Compilar con SGD + momentum\n",
    "optimizer = Adam(learning_rate=0.001)\n",
    "model.compile(optimizer=optimizer, loss='binary_crossentropy', metrics=['accuracy'])\n",
    "\n",
    "# Evaluar\n",
    "loss, accuracy = model.evaluate(X_test_norm, y_test, verbose=0)\n",
    "print(f\"Accuracy: {accuracy * 100:.2f}%\")\n",
    "\n",
    "import matplotlib.pyplot as plt\n",
    "\n",
    "# Entrenar y guardar el historial\n",
    "historial = model.fit(X_train_norm, y_train, epochs=100, batch_size=64, verbose=1, validation_data=(X_test_norm, y_test))\n",
    "\n"
   ]
  },
  {
   "cell_type": "code",
   "execution_count": null,
   "id": "ed727cf8-4750-4188-b631-54dceb635455",
   "metadata": {},
   "outputs": [],
   "source": [
    "import matplotlib.pyplot as plt\n",
    "\n",
    "# Graficar pérdida\n",
    "plt.figure(figsize=(12, 5))\n",
    "\n",
    "plt.subplot(1, 2, 1)\n",
    "plt.plot(historial.history['loss'], label='Pérdida de entrenamiento')\n",
    "plt.plot(historial.history['val_loss'], label='Pérdida de validación')\n",
    "plt.title('Curva de pérdida')\n",
    "plt.xlabel('Épocas')\n",
    "plt.ylabel('Pérdida')\n",
    "plt.legend()\n",
    "plt.grid(True)\n",
    "\n",
    "# Graficar accuracy\n",
    "plt.subplot(1, 2, 2)\n",
    "plt.plot(historial.history['accuracy'], label='Precisión de entrenamiento')\n",
    "plt.plot(historial.history['val_accuracy'], label='Precisión de validación')\n",
    "plt.title('Curva de precisión')\n",
    "plt.xlabel('Épocas')\n",
    "plt.ylabel('Precisión')\n",
    "plt.legend()\n",
    "plt.grid(True)\n",
    "\n",
    "plt.tight_layout()\n",
    "plt.show()"
   ]
  },
  {
   "cell_type": "code",
   "execution_count": null,
   "id": "fd2d0dee",
   "metadata": {},
   "outputs": [],
   "source": [
    "from sklearn.metrics import confusion_matrix, ConfusionMatrixDisplay\n",
    "import matplotlib.pyplot as plt\n",
    "\n",
    "# Obtener las predicciones del modelo como probabilidades\n",
    "y_pred = model.predict(X_test_norm)\n",
    "\n",
    "# Convertir probabilidades a clases binarias (0 o 1)\n",
    "y_pred_classes = (y_pred > 0.5).astype(int).flatten()\n",
    "\n",
    "# Generar la matriz de confusión\n",
    "cm = confusion_matrix(y_test, y_pred_classes)\n",
    "\n",
    "# Visualizar la matriz de confusión\n",
    "disp = ConfusionMatrixDisplay(confusion_matrix=cm, display_labels=[0, 1])\n",
    "disp.plot(cmap=plt.cm.Blues)\n",
    "plt.title(\"Matriz de Confusión\")\n",
    "plt.xlabel('Predicciones')\n",
    "plt.ylabel('Valores Reales')\n",
    "plt.show()\n"
   ]
  },
  {
   "cell_type": "code",
   "execution_count": null,
   "id": "4e0baf04",
   "metadata": {},
   "outputs": [],
   "source": [
    "from sklearn.metrics import precision_score, recall_score, f1_score, accuracy_score, confusion_matrix\n",
    "\n",
    "# Obtener las predicciones del modelo como probabilidades\n",
    "y_pred = model.predict(X_test_norm)\n",
    "\n",
    "# Convertir probabilidades a clases binarias (0 o 1)\n",
    "y_pred_classes = (y_pred > 0.5).astype(int).flatten()\n",
    "\n",
    "# Calcular la matriz de confusión\n",
    "cm = confusion_matrix(y_test, y_pred_classes)\n",
    "\n",
    "# Calcular especificidad\n",
    "tn, fp, fn, tp = cm.ravel()  # Extraer valores de la matriz de confusión\n",
    "specificity = tn / (tn + fp)\n",
    "\n",
    "# Calcular métricas\n",
    "accuracy = accuracy_score(y_test, y_pred_classes)\n",
    "precision = precision_score(y_test, y_pred_classes)\n",
    "recall = recall_score(y_test, y_pred_classes)  # Sensibilidad\n",
    "f1 = f1_score(y_test, y_pred_classes)\n",
    "\n",
    "# Imprimir resultados\n",
    "print(f\"Accuracy: {accuracy * 100:.1f}%\")\n",
    "print(f\"Precisión: {precision * 100:.1f}%\")\n",
    "print(f\"Sensibilidad (Recall): {recall * 100:.1f}%\")\n",
    "print(f\"Especificidad: {specificity * 100:.1f}%\")\n",
    "print(f\"Medida F1: {f1 * 100:.1f}%\")\n"
   ]
  },
  {
   "cell_type": "code",
   "execution_count": null,
   "id": "251927c4",
   "metadata": {},
   "outputs": [],
   "source": [
    "# Guardar el modelo\n",
    "model.save(\"modelo_diabetes.h5\")\n",
    "\n",
    "# Guardar el scaler con joblib o pickle\n",
    "import joblib\n",
    "joblib.dump(scaler, \"scaler_diabetes.pkl\")\n"
   ]
  },
  {
   "cell_type": "code",
   "execution_count": null,
   "id": "39b37f0e",
   "metadata": {},
   "outputs": [],
   "source": [
    "from tensorflow.keras.models import load_model\n",
    "import joblib\n",
    "import numpy as np\n",
    "\n",
    "# Cargar modelo y scaler\n",
    "modelo = load_model(\"modelo_diabetes.h5\")\n",
    "scaler = joblib.load(\"scaler_diabetes.pkl\")\n"
   ]
  },
  {
   "cell_type": "code",
   "execution_count": null,
   "id": "4ffa4572-87ef-40e0-b92e-2c693a687cba",
   "metadata": {},
   "outputs": [],
   "source": [
    "# Variables en orden\n",
    "columnas = [\n",
    "    \"Pregnancies\", \"Glucose\", \"BloodPressure\", \"SkinThickness\",\n",
    "    \"Insulin\", \"BMI\", \"DiabetesPedigreeFunction\", \"Age\"\n",
    "]\n",
    "\n",
    "# Leer los valores como float desde el teclado\n",
    "valores = []\n",
    "print(\"Ingresa los valores del paciente:\")\n",
    "for col in columnas:\n",
    "    val = float(input(f\"{col}: \"))\n",
    "    valores.append(val)\n",
    "\n",
    "# Convertir a array y escalar\n",
    "valores_array = np.array(valores).reshape(1, -1)\n",
    "valores_norm = scaler.transform(valores_array)\n",
    "\n",
    "# Predecir\n",
    "pred = modelo.predict(valores_norm)\n",
    "clase = 1 if pred[0][0] >= 0.5 else 0\n",
    "\n",
    "# Mostrar resultado\n",
    "print(f\"\\nProbabilidad de diabetes: {pred[0][0]:.4f}\")\n",
    "print(\"Resultado:\", \"Positivo\" if clase == 1 else \"Negativo\")\n"
   ]
  }
 ],
 "metadata": {
  "kernelspec": {
   "display_name": "Python 3 (ipykernel)",
   "language": "python",
   "name": "python3"
  },
  "language_info": {
   "codemirror_mode": {
    "name": "ipython",
    "version": 3
   },
   "file_extension": ".py",
   "mimetype": "text/x-python",
   "name": "python",
   "nbconvert_exporter": "python",
   "pygments_lexer": "ipython3",
   "version": "3.11.13"
  }
 },
 "nbformat": 4,
 "nbformat_minor": 5
}
