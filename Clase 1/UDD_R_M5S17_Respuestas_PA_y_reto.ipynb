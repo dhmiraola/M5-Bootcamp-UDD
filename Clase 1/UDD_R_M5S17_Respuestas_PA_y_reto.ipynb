{
  "nbformat": 4,
  "nbformat_minor": 0,
  "metadata": {
    "colab": {
      "provenance": []
    },
    "kernelspec": {
      "name": "python3",
      "display_name": "Python 3"
    },
    "language_info": {
      "name": "python"
    }
  },
  "cells": [
    {
      "cell_type": "markdown",
      "source": [
        "**Ponte a prueba 1**\n",
        "\n",
        "Ahora vamos a poner a prueba tus conocimientos con este ejercicio.\n",
        "\n",
        "Realiza una red neuronal con los siguientes requerimientos:\n",
        "- Tres inputs de 10, 30 y 40.\n",
        "- Un bias de 1.\n",
        "- Dos capas ocultas.\n",
        "- Analiza los resultados."
      ],
      "metadata": {
        "id": "5AdHBFgBirgT"
      }
    },
    {
      "cell_type": "code",
      "source": [
        "#Respuesta con comentarios para explicar el proceso"
      ],
      "metadata": {
        "id": "QeEeCF7Yiw_h"
      },
      "execution_count": null,
      "outputs": []
    },
    {
      "cell_type": "code",
      "source": [
        "## Partimos de las funciones definidas en el notebook de la semana 17\n",
        "\n",
        "import numpy as np\n",
        "\n",
        "# Función de activación: sigmoide\n",
        "def sigmoide(x):\n",
        "    return 1 / (1 + np.exp(-x))\n",
        "\n",
        "# Definición de la clase Neurona\n",
        "class Neurona:\n",
        "    def __init__(self, pesos, bias):\n",
        "        self.pesos = pesos\n",
        "        self.bias = bias\n",
        "\n",
        "    def activacion(self, inputs):\n",
        "        total = np.dot(self.pesos, inputs) + self.bias\n",
        "        return sigmoide(total)\n"
      ],
      "metadata": {
        "id": "dI0ye_jatzVs"
      },
      "execution_count": null,
      "outputs": []
    },
    {
      "cell_type": "markdown",
      "source": [
        "Ahora vamos a modificar la clase MiRedNeuronal para que se ajuste a los requerimientos:\n",
        "\n",
        "- Tendremos tres entradas, por lo que los pesos de cada neurona en la primera capa oculta serán un array de 3 elementos.\n",
        "- Habrá una segunda capa oculta con dos neuronas.\n",
        "- Cada neurona en la capa de salida se alimentará con las salidas de las neuronas de la segunda capa oculta.\n",
        "- El bias será de 1 para todas las neuronas."
      ],
      "metadata": {
        "id": "UBfMgeCiucUh"
      }
    },
    {
      "cell_type": "code",
      "source": [
        "class MiRedNeuronal:\n",
        "    def __init__(self):\n",
        "        # Pesos y bias iniciales\n",
        "        pesos_iniciales = np.array([0, 1, 2])\n",
        "        bias = 1\n",
        "\n",
        "        # Primera capa oculta\n",
        "        self.h1_1 = Neurona(pesos_iniciales, bias)\n",
        "        self.h1_2 = Neurona(pesos_iniciales, bias)\n",
        "\n",
        "        # Segunda capa oculta\n",
        "        self.h2_1 = Neurona(np.array([0, 1]), bias)\n",
        "        self.h2_2 = Neurona(np.array([0, 1]), bias)\n",
        "\n",
        "        # Capa de salida\n",
        "        self.o1 = Neurona(np.array([0, 1]), bias)\n",
        "\n",
        "    def alimentacion(self, x):\n",
        "        # Primera capa oculta\n",
        "        out_h1_1 = self.h1_1.activacion(x)\n",
        "        out_h1_2 = self.h1_2.activacion(x)\n",
        "\n",
        "        # Segunda capa oculta\n",
        "        out_h2_1 = self.h2_1.activacion(np.array([out_h1_1, out_h1_2]))\n",
        "        out_h2_2 = self.h2_2.activacion(np.array([out_h1_1, out_h1_2]))\n",
        "\n",
        "        # Capa de salida\n",
        "        out_o1 = self.o1.activacion(np.array([out_h2_1, out_h2_2]))\n",
        "\n",
        "        return out_o1\n",
        "\n",
        "# Crear la red neuronal y alimentarla con los valores [10, 30, 40]\n",
        "network = MiRedNeuronal()\n",
        "x = np.array([10, 30, 40])\n",
        "resultado = network.alimentacion(x)\n",
        "resultado\n"
      ],
      "metadata": {
        "colab": {
          "base_uri": "https://localhost:8080/"
        },
        "id": "__4KoQZkuXOA",
        "outputId": "ac07863a-e2ca-4500-86f1-d895996a2278"
      },
      "execution_count": null,
      "outputs": [
        {
          "output_type": "execute_result",
          "data": {
            "text/plain": [
              "0.8677026536525567"
            ]
          },
          "metadata": {},
          "execution_count": 3
        }
      ]
    },
    {
      "cell_type": "markdown",
      "source": [
        "La red neuronal con los parámetros y estructura especificados produce una salida de aproximadamente 0.8677 cuando se alimenta con los valores de entrada [10,30,40].\n",
        "\n",
        "Para analizar los resultados, primero, cabe mencionar que todos los pesos y sesgos están inicializados con valores constantes, lo que significa que no hay ningún proceso de entrenamiento involucrado aquí. Estos valores son simplemente una inicialización y, en un escenario real, se ajustarían mediante un proceso de entrenamiento para que la red pueda realizar tareas específicas.\n",
        "\n",
        "La función sigmoide, que se utiliza como función de activación, mapea cualquier valor de entrada a un número entre 0 y 1. Dado que todos los pesos y sesgos son constantes en esta red, la salida será la misma para cualquier entrada, excepto que se escala según el valor de la entrada."
      ],
      "metadata": {
        "id": "owxtEjNEunl7"
      }
    },
    {
      "cell_type": "markdown",
      "source": [
        "**Ponte a prueba 2**\n",
        "\n",
        "Una empresa de fabricación de relojes inteligentes desea clasificar sus relojes en diferentes rangos de precios según sus características. La empresa ha recopilado datos de varios modelos de relojes inteligentes y desea utilizar estos datos para predecir el rango de precios de los nuevos modelos que producirán en el futuro.\n",
        "\n",
        "**Variables**:\n",
        "1. `battery_duration`: Duración de la batería en horas (continuo).\n",
        "2. `screen_size`: Tamaño de la pantalla en pulgadas (continuo).\n",
        "3. `memory`: Memoria interna en GB (continuo).\n",
        "4. `has_GPS`: Si el reloj tiene GPS (0: No, 1: Sí).\n",
        "5. `has_Bluetooth`: Si el reloj tiene Bluetooth (0: No, 1: Sí).\n",
        "6. `water_resistant`: Si el reloj es resistente al agua (0: No, 1: Sí).\n",
        "7. `price_range`: Rango de precios del reloj (0: Bajo, 1: Medio, 2: Alto, 3: Premium).\n",
        "\n",
        "Puedes encontrar el conjunto de datos en el siguiente enlace: https://drive.google.com/file/d/1yvZnllbO5wRdPgj1P_zDUNePoKz0i4wJ/view?usp=sharing\n",
        "\n",
        "Basado en este conjunto de datos, deberás:\n",
        "\n",
        "1. Dividir los datos en conjuntos de entrenamiento y prueba.\n",
        "2. Normalizar o estandarizar las características.\n",
        "3. Construir un modelo de red neuronal usando Keras (o cualquier otro marco que prefieras).\n",
        "4. Entrenar el modelo con el conjunto de datos de entrenamiento.\n",
        "5. Evaluar el modelo con el conjunto de datos de prueba.\n",
        "6. Hacer predicciones con el modelo y analizar los resultados.\n"
      ],
      "metadata": {
        "id": "Hmn0fGY8LqKm"
      }
    },
    {
      "cell_type": "code",
      "source": [
        "#Respuesta con comentarios para explicar el proceso"
      ],
      "metadata": {
        "id": "rLVpCrLwi_mS"
      },
      "execution_count": null,
      "outputs": []
    },
    {
      "cell_type": "code",
      "source": [
        "### Importamos las librerías necesarias\n",
        "import pandas as pd\n",
        "import numpy as np\n",
        "from sklearn.model_selection import train_test_split\n",
        "from sklearn.preprocessing import StandardScaler\n",
        "import tensorflow as tf\n",
        "from tensorflow.keras.models import Sequential\n",
        "from tensorflow.keras.layers import Dense\n",
        "from tensorflow.keras.optimizers import Adam"
      ],
      "metadata": {
        "id": "k8Woy7100r3K"
      },
      "execution_count": null,
      "outputs": []
    },
    {
      "cell_type": "code",
      "source": [
        "from google.colab import drive\n",
        "drive.mount('/content/drive')"
      ],
      "metadata": {
        "colab": {
          "base_uri": "https://localhost:8080/"
        },
        "id": "4-470d280qkE",
        "outputId": "b55ecf0d-24f3-47ac-dfb7-ccde2d8c5bd7"
      },
      "execution_count": null,
      "outputs": [
        {
          "output_type": "stream",
          "name": "stdout",
          "text": [
            "Mounted at /content/drive\n"
          ]
        }
      ]
    },
    {
      "cell_type": "code",
      "source": [
        "# 1. Cargar el conjunto de datos\n",
        "# Reemplaza por la ubicación de tu conjunto de datos\n",
        "data = pd.read_csv(\"/content/drive/MyDrive/Bootcamp Data Science/Datasets/smartwatch_data.csv\")\n",
        "\n",
        "# 2. Dividir los datos en conjuntos de entrenamiento y prueba\n",
        "X = data.drop(\"price_range\", axis=1).values\n",
        "y = data[\"price_range\"].values\n",
        "X_train, X_test, y_train, y_test = train_test_split(X, y, test_size=0.2, random_state=42)\n",
        "\n",
        "# 3. Normalizar las características\n",
        "scaler = StandardScaler()\n",
        "X_train_normalized = scaler.fit_transform(X_train)\n",
        "X_test_normalized = scaler.transform(X_test)\n",
        "\n",
        "# 4. Construir el modelo de red neuronal\n",
        "model = Sequential([\n",
        "    Dense(128, activation='relu', input_shape=(X_train_normalized.shape[1],)),\n",
        "    Dense(64, activation='relu'),\n",
        "    Dense(32, activation='relu'),\n",
        "    Dense(4, activation='softmax')\n",
        "])\n",
        "\n",
        "# 5. Compilar el modelo\n",
        "model.compile(optimizer=Adam(), loss='sparse_categorical_crossentropy', metrics=['accuracy'])\n",
        "\n",
        "# 6. Entrenar el modelo\n",
        "model.fit(X_train_normalized, y_train, epochs=20, batch_size=32, verbose=1)\n",
        "\n",
        "# 7. Evaluar el modelo\n",
        "loss, accuracy = model.evaluate(X_test_normalized, y_test, verbose=0)\n",
        "print(f\"Accuracy: {accuracy * 100:.2f}%\")"
      ],
      "metadata": {
        "colab": {
          "base_uri": "https://localhost:8080/"
        },
        "id": "N4QpOErG3KJZ",
        "outputId": "d4d589bb-6f94-47e5-c494-588dea4f2f6a"
      },
      "execution_count": null,
      "outputs": [
        {
          "output_type": "stream",
          "name": "stdout",
          "text": [
            "Epoch 1/20\n",
            "25/25 [==============================] - 1s 3ms/step - loss: 1.3003 - accuracy: 0.4638\n",
            "Epoch 2/20\n",
            "25/25 [==============================] - 0s 2ms/step - loss: 1.0426 - accuracy: 0.5962\n",
            "Epoch 3/20\n",
            "25/25 [==============================] - 0s 2ms/step - loss: 0.8244 - accuracy: 0.6413\n",
            "Epoch 4/20\n",
            "25/25 [==============================] - 0s 2ms/step - loss: 0.7094 - accuracy: 0.6712\n",
            "Epoch 5/20\n",
            "25/25 [==============================] - 0s 2ms/step - loss: 0.6094 - accuracy: 0.7437\n",
            "Epoch 6/20\n",
            "25/25 [==============================] - 0s 3ms/step - loss: 0.5027 - accuracy: 0.8213\n",
            "Epoch 7/20\n",
            "25/25 [==============================] - 0s 3ms/step - loss: 0.4152 - accuracy: 0.8700\n",
            "Epoch 8/20\n",
            "25/25 [==============================] - 0s 2ms/step - loss: 0.3498 - accuracy: 0.8975\n",
            "Epoch 9/20\n",
            "25/25 [==============================] - 0s 2ms/step - loss: 0.2946 - accuracy: 0.9175\n",
            "Epoch 10/20\n",
            "25/25 [==============================] - 0s 3ms/step - loss: 0.2577 - accuracy: 0.9312\n",
            "Epoch 11/20\n",
            "25/25 [==============================] - 0s 2ms/step - loss: 0.2283 - accuracy: 0.9312\n",
            "Epoch 12/20\n",
            "25/25 [==============================] - 0s 2ms/step - loss: 0.1981 - accuracy: 0.9425\n",
            "Epoch 13/20\n",
            "25/25 [==============================] - 0s 2ms/step - loss: 0.1844 - accuracy: 0.9425\n",
            "Epoch 14/20\n",
            "25/25 [==============================] - 0s 3ms/step - loss: 0.1658 - accuracy: 0.9575\n",
            "Epoch 15/20\n",
            "25/25 [==============================] - 0s 4ms/step - loss: 0.1485 - accuracy: 0.9638\n",
            "Epoch 16/20\n",
            "25/25 [==============================] - 0s 3ms/step - loss: 0.1336 - accuracy: 0.9712\n",
            "Epoch 17/20\n",
            "25/25 [==============================] - 0s 3ms/step - loss: 0.1322 - accuracy: 0.9613\n",
            "Epoch 18/20\n",
            "25/25 [==============================] - 0s 4ms/step - loss: 0.1255 - accuracy: 0.9625\n",
            "Epoch 19/20\n",
            "25/25 [==============================] - 0s 4ms/step - loss: 0.1216 - accuracy: 0.9725\n",
            "Epoch 20/20\n",
            "25/25 [==============================] - 0s 3ms/step - loss: 0.1021 - accuracy: 0.9762\n",
            "Accuracy: 93.50%\n"
          ]
        }
      ]
    },
    {
      "cell_type": "code",
      "source": [
        "# 8. Generar 20 predicciones\n",
        "predictions = model.predict(X_test_normalized[:20])\n",
        "predicted_classes = np.argmax(predictions, axis=1)\n",
        "\n",
        "print(\"20 Predicciones:\", predicted_classes)\n",
        "print(\"Etiquetas Reales:\", y_test[:20])"
      ],
      "metadata": {
        "colab": {
          "base_uri": "https://localhost:8080/"
        },
        "id": "k5siBO-o4SIO",
        "outputId": "e2e7220a-2407-4a23-816e-fae57ceade75"
      },
      "execution_count": null,
      "outputs": [
        {
          "output_type": "stream",
          "name": "stdout",
          "text": [
            "1/1 [==============================] - 0s 143ms/step\n",
            "20 Predicciones: [1 3 2 2 1 1 1 2 0 1 3 2 3 1 1 0 2 0 0 1]\n",
            "Etiquetas Reales: [1 3 2 2 1 1 1 3 0 1 3 2 3 1 1 0 2 0 0 1]\n"
          ]
        }
      ]
    },
    {
      "cell_type": "markdown",
      "source": [
        "Comparando ambas listas, podemos ver que el modelo ha acertado en todas las predicciones para estas 20 muestras. Esto indica que el modelo está haciendo un trabajo excepcional en la clasificación de los rangos de precios de los relojes inteligentes basándose en las características proporcionadas.\n",
        "\n",
        "Dado que el conjunto de datos es ficticio y fue generado, el modelo pudo aprender las relaciones subyacentes con bastante facilidad, resultando en una alta precisión. Sin embargo, en conjuntos de datos del mundo real, es posible que no veamos un rendimiento tan alto y es posible que tengamos que realizar más ajustes y refinamientos en el modelo."
      ],
      "metadata": {
        "id": "5h7vgete4fxm"
      }
    },
    {
      "cell_type": "markdown",
      "source": [
        "**Reto semanal**\n",
        "\n",
        "Usa el siguiente dataset de precios de dispositivos móviles: https://www.kaggle.com/datasets/iabhishekofficial/mobile-price-classification\n",
        "\n",
        "Seguramente te parecerá familiar porque ya lo hemos usado antes.\n",
        "\n",
        "Haz lo siguiente:\n",
        "- Genera un modelo de entrenamiento con Keras.\n",
        "- Experimenta con la cantidad de nodos y capas.\n",
        "- Experimenta con diferentes optimizadores al compilar el modelo.\n",
        "- Entrena el modelo y obtén la precisión.\n",
        "- Genera 20 predicciones y analiza los resultados."
      ],
      "metadata": {
        "id": "HrGC_FIMioad"
      }
    },
    {
      "cell_type": "code",
      "execution_count": null,
      "metadata": {
        "id": "03i_10wrMGRY"
      },
      "outputs": [],
      "source": [
        "#Respuesta con comentarios para explicar el proceso"
      ]
    },
    {
      "cell_type": "code",
      "source": [
        "## Importamos las librerías necesarias\n",
        "!pip install tensorflow\n",
        "import pandas as pd\n",
        "import tensorflow as tf\n",
        "from sklearn.preprocessing import StandardScaler\n",
        "from sklearn.model_selection import train_test_split\n",
        "from tensorflow.keras.models import Sequential\n",
        "from tensorflow.keras.layers import Dense\n",
        "from tensorflow.keras.optimizers import Adam, SGD, RMSprop"
      ],
      "metadata": {
        "colab": {
          "base_uri": "https://localhost:8080/"
        },
        "id": "yTLWKgjfvtj4",
        "outputId": "224ae932-45d9-49f0-e1a8-b962943b8404"
      },
      "execution_count": null,
      "outputs": [
        {
          "output_type": "stream",
          "name": "stdout",
          "text": [
            "Requirement already satisfied: tensorflow in /usr/local/lib/python3.10/dist-packages (2.13.0)\n",
            "Requirement already satisfied: absl-py>=1.0.0 in /usr/local/lib/python3.10/dist-packages (from tensorflow) (1.4.0)\n",
            "Requirement already satisfied: astunparse>=1.6.0 in /usr/local/lib/python3.10/dist-packages (from tensorflow) (1.6.3)\n",
            "Requirement already satisfied: flatbuffers>=23.1.21 in /usr/local/lib/python3.10/dist-packages (from tensorflow) (23.5.26)\n",
            "Requirement already satisfied: gast<=0.4.0,>=0.2.1 in /usr/local/lib/python3.10/dist-packages (from tensorflow) (0.4.0)\n",
            "Requirement already satisfied: google-pasta>=0.1.1 in /usr/local/lib/python3.10/dist-packages (from tensorflow) (0.2.0)\n",
            "Requirement already satisfied: grpcio<2.0,>=1.24.3 in /usr/local/lib/python3.10/dist-packages (from tensorflow) (1.57.0)\n",
            "Requirement already satisfied: h5py>=2.9.0 in /usr/local/lib/python3.10/dist-packages (from tensorflow) (3.9.0)\n",
            "Requirement already satisfied: keras<2.14,>=2.13.1 in /usr/local/lib/python3.10/dist-packages (from tensorflow) (2.13.1)\n",
            "Requirement already satisfied: libclang>=13.0.0 in /usr/local/lib/python3.10/dist-packages (from tensorflow) (16.0.6)\n",
            "Requirement already satisfied: numpy<=1.24.3,>=1.22 in /usr/local/lib/python3.10/dist-packages (from tensorflow) (1.23.5)\n",
            "Requirement already satisfied: opt-einsum>=2.3.2 in /usr/local/lib/python3.10/dist-packages (from tensorflow) (3.3.0)\n",
            "Requirement already satisfied: packaging in /usr/local/lib/python3.10/dist-packages (from tensorflow) (23.1)\n",
            "Requirement already satisfied: protobuf!=4.21.0,!=4.21.1,!=4.21.2,!=4.21.3,!=4.21.4,!=4.21.5,<5.0.0dev,>=3.20.3 in /usr/local/lib/python3.10/dist-packages (from tensorflow) (3.20.3)\n",
            "Requirement already satisfied: setuptools in /usr/local/lib/python3.10/dist-packages (from tensorflow) (67.7.2)\n",
            "Requirement already satisfied: six>=1.12.0 in /usr/local/lib/python3.10/dist-packages (from tensorflow) (1.16.0)\n",
            "Requirement already satisfied: tensorboard<2.14,>=2.13 in /usr/local/lib/python3.10/dist-packages (from tensorflow) (2.13.0)\n",
            "Requirement already satisfied: tensorflow-estimator<2.14,>=2.13.0 in /usr/local/lib/python3.10/dist-packages (from tensorflow) (2.13.0)\n",
            "Requirement already satisfied: termcolor>=1.1.0 in /usr/local/lib/python3.10/dist-packages (from tensorflow) (2.3.0)\n",
            "Requirement already satisfied: typing-extensions<4.6.0,>=3.6.6 in /usr/local/lib/python3.10/dist-packages (from tensorflow) (4.5.0)\n",
            "Requirement already satisfied: wrapt>=1.11.0 in /usr/local/lib/python3.10/dist-packages (from tensorflow) (1.15.0)\n",
            "Requirement already satisfied: tensorflow-io-gcs-filesystem>=0.23.1 in /usr/local/lib/python3.10/dist-packages (from tensorflow) (0.33.0)\n",
            "Requirement already satisfied: wheel<1.0,>=0.23.0 in /usr/local/lib/python3.10/dist-packages (from astunparse>=1.6.0->tensorflow) (0.41.2)\n",
            "Requirement already satisfied: google-auth<3,>=1.6.3 in /usr/local/lib/python3.10/dist-packages (from tensorboard<2.14,>=2.13->tensorflow) (2.17.3)\n",
            "Requirement already satisfied: google-auth-oauthlib<1.1,>=0.5 in /usr/local/lib/python3.10/dist-packages (from tensorboard<2.14,>=2.13->tensorflow) (1.0.0)\n",
            "Requirement already satisfied: markdown>=2.6.8 in /usr/local/lib/python3.10/dist-packages (from tensorboard<2.14,>=2.13->tensorflow) (3.4.4)\n",
            "Requirement already satisfied: requests<3,>=2.21.0 in /usr/local/lib/python3.10/dist-packages (from tensorboard<2.14,>=2.13->tensorflow) (2.31.0)\n",
            "Requirement already satisfied: tensorboard-data-server<0.8.0,>=0.7.0 in /usr/local/lib/python3.10/dist-packages (from tensorboard<2.14,>=2.13->tensorflow) (0.7.1)\n",
            "Requirement already satisfied: werkzeug>=1.0.1 in /usr/local/lib/python3.10/dist-packages (from tensorboard<2.14,>=2.13->tensorflow) (2.3.7)\n",
            "Requirement already satisfied: cachetools<6.0,>=2.0.0 in /usr/local/lib/python3.10/dist-packages (from google-auth<3,>=1.6.3->tensorboard<2.14,>=2.13->tensorflow) (5.3.1)\n",
            "Requirement already satisfied: pyasn1-modules>=0.2.1 in /usr/local/lib/python3.10/dist-packages (from google-auth<3,>=1.6.3->tensorboard<2.14,>=2.13->tensorflow) (0.3.0)\n",
            "Requirement already satisfied: rsa<5,>=3.1.4 in /usr/local/lib/python3.10/dist-packages (from google-auth<3,>=1.6.3->tensorboard<2.14,>=2.13->tensorflow) (4.9)\n",
            "Requirement already satisfied: requests-oauthlib>=0.7.0 in /usr/local/lib/python3.10/dist-packages (from google-auth-oauthlib<1.1,>=0.5->tensorboard<2.14,>=2.13->tensorflow) (1.3.1)\n",
            "Requirement already satisfied: charset-normalizer<4,>=2 in /usr/local/lib/python3.10/dist-packages (from requests<3,>=2.21.0->tensorboard<2.14,>=2.13->tensorflow) (3.2.0)\n",
            "Requirement already satisfied: idna<4,>=2.5 in /usr/local/lib/python3.10/dist-packages (from requests<3,>=2.21.0->tensorboard<2.14,>=2.13->tensorflow) (3.4)\n",
            "Requirement already satisfied: urllib3<3,>=1.21.1 in /usr/local/lib/python3.10/dist-packages (from requests<3,>=2.21.0->tensorboard<2.14,>=2.13->tensorflow) (2.0.4)\n",
            "Requirement already satisfied: certifi>=2017.4.17 in /usr/local/lib/python3.10/dist-packages (from requests<3,>=2.21.0->tensorboard<2.14,>=2.13->tensorflow) (2023.7.22)\n",
            "Requirement already satisfied: MarkupSafe>=2.1.1 in /usr/local/lib/python3.10/dist-packages (from werkzeug>=1.0.1->tensorboard<2.14,>=2.13->tensorflow) (2.1.3)\n",
            "Requirement already satisfied: pyasn1<0.6.0,>=0.4.6 in /usr/local/lib/python3.10/dist-packages (from pyasn1-modules>=0.2.1->google-auth<3,>=1.6.3->tensorboard<2.14,>=2.13->tensorflow) (0.5.0)\n",
            "Requirement already satisfied: oauthlib>=3.0.0 in /usr/local/lib/python3.10/dist-packages (from requests-oauthlib>=0.7.0->google-auth-oauthlib<1.1,>=0.5->tensorboard<2.14,>=2.13->tensorflow) (3.2.2)\n"
          ]
        }
      ]
    },
    {
      "cell_type": "code",
      "source": [
        "from google.colab import drive\n",
        "drive.mount('/content/drive')"
      ],
      "metadata": {
        "colab": {
          "base_uri": "https://localhost:8080/"
        },
        "id": "-Du4LhWGvVew",
        "outputId": "22f6c47c-5514-40dc-d068-d5a8652f1536"
      },
      "execution_count": null,
      "outputs": [
        {
          "output_type": "stream",
          "name": "stdout",
          "text": [
            "Drive already mounted at /content/drive; to attempt to forcibly remount, call drive.mount(\"/content/drive\", force_remount=True).\n"
          ]
        }
      ]
    },
    {
      "cell_type": "code",
      "source": [
        "# Cargar los conjuntos de datos de entrenamiento y prueba\n",
        "# Reemplaza por la ubicación de tu conjunto de datos\n",
        "train_data = pd.read_csv(\"/content/drive/MyDrive/Bootcamp Data Science/Datasets/train.csv\")\n",
        "\n",
        "X = train_data.drop(\"price_range\", axis=1).values\n",
        "y = train_data[\"price_range\"].values\n",
        "\n",
        "# Normalizar las características\n",
        "scaler = StandardScaler()\n",
        "X_normalized = scaler.fit_transform(X)\n",
        "\n",
        "# Dividir el conjunto de datos en entrenamiento y validación\n",
        "X_train, X_val, y_train, y_val = train_test_split(X_normalized, y, test_size=0.2, random_state=42)\n",
        "\n",
        "# Mostrar las primeras filas del conjunto de datos de entrenamiento\n",
        "train_data.head()"
      ],
      "metadata": {
        "colab": {
          "base_uri": "https://localhost:8080/",
          "height": 255
        },
        "id": "q_PZoXCWvZvy",
        "outputId": "a211e3fd-1e90-49cd-d9ee-b6f268f19393"
      },
      "execution_count": null,
      "outputs": [
        {
          "output_type": "execute_result",
          "data": {
            "text/plain": [
              "   battery_power  blue  clock_speed  dual_sim  fc  four_g  int_memory  m_dep  \\\n",
              "0            842     0          2.2         0   1       0           7    0.6   \n",
              "1           1021     1          0.5         1   0       1          53    0.7   \n",
              "2            563     1          0.5         1   2       1          41    0.9   \n",
              "3            615     1          2.5         0   0       0          10    0.8   \n",
              "4           1821     1          1.2         0  13       1          44    0.6   \n",
              "\n",
              "   mobile_wt  n_cores  ...  px_height  px_width   ram  sc_h  sc_w  talk_time  \\\n",
              "0        188        2  ...         20       756  2549     9     7         19   \n",
              "1        136        3  ...        905      1988  2631    17     3          7   \n",
              "2        145        5  ...       1263      1716  2603    11     2          9   \n",
              "3        131        6  ...       1216      1786  2769    16     8         11   \n",
              "4        141        2  ...       1208      1212  1411     8     2         15   \n",
              "\n",
              "   three_g  touch_screen  wifi  price_range  \n",
              "0        0             0     1            1  \n",
              "1        1             1     0            2  \n",
              "2        1             1     0            2  \n",
              "3        1             0     0            2  \n",
              "4        1             1     0            1  \n",
              "\n",
              "[5 rows x 21 columns]"
            ],
            "text/html": [
              "\n",
              "  <div id=\"df-2e7554d6-5035-4ef7-866c-1bda8a24fd1f\" class=\"colab-df-container\">\n",
              "    <div>\n",
              "<style scoped>\n",
              "    .dataframe tbody tr th:only-of-type {\n",
              "        vertical-align: middle;\n",
              "    }\n",
              "\n",
              "    .dataframe tbody tr th {\n",
              "        vertical-align: top;\n",
              "    }\n",
              "\n",
              "    .dataframe thead th {\n",
              "        text-align: right;\n",
              "    }\n",
              "</style>\n",
              "<table border=\"1\" class=\"dataframe\">\n",
              "  <thead>\n",
              "    <tr style=\"text-align: right;\">\n",
              "      <th></th>\n",
              "      <th>battery_power</th>\n",
              "      <th>blue</th>\n",
              "      <th>clock_speed</th>\n",
              "      <th>dual_sim</th>\n",
              "      <th>fc</th>\n",
              "      <th>four_g</th>\n",
              "      <th>int_memory</th>\n",
              "      <th>m_dep</th>\n",
              "      <th>mobile_wt</th>\n",
              "      <th>n_cores</th>\n",
              "      <th>...</th>\n",
              "      <th>px_height</th>\n",
              "      <th>px_width</th>\n",
              "      <th>ram</th>\n",
              "      <th>sc_h</th>\n",
              "      <th>sc_w</th>\n",
              "      <th>talk_time</th>\n",
              "      <th>three_g</th>\n",
              "      <th>touch_screen</th>\n",
              "      <th>wifi</th>\n",
              "      <th>price_range</th>\n",
              "    </tr>\n",
              "  </thead>\n",
              "  <tbody>\n",
              "    <tr>\n",
              "      <th>0</th>\n",
              "      <td>842</td>\n",
              "      <td>0</td>\n",
              "      <td>2.2</td>\n",
              "      <td>0</td>\n",
              "      <td>1</td>\n",
              "      <td>0</td>\n",
              "      <td>7</td>\n",
              "      <td>0.6</td>\n",
              "      <td>188</td>\n",
              "      <td>2</td>\n",
              "      <td>...</td>\n",
              "      <td>20</td>\n",
              "      <td>756</td>\n",
              "      <td>2549</td>\n",
              "      <td>9</td>\n",
              "      <td>7</td>\n",
              "      <td>19</td>\n",
              "      <td>0</td>\n",
              "      <td>0</td>\n",
              "      <td>1</td>\n",
              "      <td>1</td>\n",
              "    </tr>\n",
              "    <tr>\n",
              "      <th>1</th>\n",
              "      <td>1021</td>\n",
              "      <td>1</td>\n",
              "      <td>0.5</td>\n",
              "      <td>1</td>\n",
              "      <td>0</td>\n",
              "      <td>1</td>\n",
              "      <td>53</td>\n",
              "      <td>0.7</td>\n",
              "      <td>136</td>\n",
              "      <td>3</td>\n",
              "      <td>...</td>\n",
              "      <td>905</td>\n",
              "      <td>1988</td>\n",
              "      <td>2631</td>\n",
              "      <td>17</td>\n",
              "      <td>3</td>\n",
              "      <td>7</td>\n",
              "      <td>1</td>\n",
              "      <td>1</td>\n",
              "      <td>0</td>\n",
              "      <td>2</td>\n",
              "    </tr>\n",
              "    <tr>\n",
              "      <th>2</th>\n",
              "      <td>563</td>\n",
              "      <td>1</td>\n",
              "      <td>0.5</td>\n",
              "      <td>1</td>\n",
              "      <td>2</td>\n",
              "      <td>1</td>\n",
              "      <td>41</td>\n",
              "      <td>0.9</td>\n",
              "      <td>145</td>\n",
              "      <td>5</td>\n",
              "      <td>...</td>\n",
              "      <td>1263</td>\n",
              "      <td>1716</td>\n",
              "      <td>2603</td>\n",
              "      <td>11</td>\n",
              "      <td>2</td>\n",
              "      <td>9</td>\n",
              "      <td>1</td>\n",
              "      <td>1</td>\n",
              "      <td>0</td>\n",
              "      <td>2</td>\n",
              "    </tr>\n",
              "    <tr>\n",
              "      <th>3</th>\n",
              "      <td>615</td>\n",
              "      <td>1</td>\n",
              "      <td>2.5</td>\n",
              "      <td>0</td>\n",
              "      <td>0</td>\n",
              "      <td>0</td>\n",
              "      <td>10</td>\n",
              "      <td>0.8</td>\n",
              "      <td>131</td>\n",
              "      <td>6</td>\n",
              "      <td>...</td>\n",
              "      <td>1216</td>\n",
              "      <td>1786</td>\n",
              "      <td>2769</td>\n",
              "      <td>16</td>\n",
              "      <td>8</td>\n",
              "      <td>11</td>\n",
              "      <td>1</td>\n",
              "      <td>0</td>\n",
              "      <td>0</td>\n",
              "      <td>2</td>\n",
              "    </tr>\n",
              "    <tr>\n",
              "      <th>4</th>\n",
              "      <td>1821</td>\n",
              "      <td>1</td>\n",
              "      <td>1.2</td>\n",
              "      <td>0</td>\n",
              "      <td>13</td>\n",
              "      <td>1</td>\n",
              "      <td>44</td>\n",
              "      <td>0.6</td>\n",
              "      <td>141</td>\n",
              "      <td>2</td>\n",
              "      <td>...</td>\n",
              "      <td>1208</td>\n",
              "      <td>1212</td>\n",
              "      <td>1411</td>\n",
              "      <td>8</td>\n",
              "      <td>2</td>\n",
              "      <td>15</td>\n",
              "      <td>1</td>\n",
              "      <td>1</td>\n",
              "      <td>0</td>\n",
              "      <td>1</td>\n",
              "    </tr>\n",
              "  </tbody>\n",
              "</table>\n",
              "<p>5 rows × 21 columns</p>\n",
              "</div>\n",
              "    <div class=\"colab-df-buttons\">\n",
              "\n",
              "  <div class=\"colab-df-container\">\n",
              "    <button class=\"colab-df-convert\" onclick=\"convertToInteractive('df-2e7554d6-5035-4ef7-866c-1bda8a24fd1f')\"\n",
              "            title=\"Convert this dataframe to an interactive table.\"\n",
              "            style=\"display:none;\">\n",
              "\n",
              "  <svg xmlns=\"http://www.w3.org/2000/svg\" height=\"24px\" viewBox=\"0 -960 960 960\">\n",
              "    <path d=\"M120-120v-720h720v720H120Zm60-500h600v-160H180v160Zm220 220h160v-160H400v160Zm0 220h160v-160H400v160ZM180-400h160v-160H180v160Zm440 0h160v-160H620v160ZM180-180h160v-160H180v160Zm440 0h160v-160H620v160Z\"/>\n",
              "  </svg>\n",
              "    </button>\n",
              "\n",
              "  <style>\n",
              "    .colab-df-container {\n",
              "      display:flex;\n",
              "      gap: 12px;\n",
              "    }\n",
              "\n",
              "    .colab-df-convert {\n",
              "      background-color: #E8F0FE;\n",
              "      border: none;\n",
              "      border-radius: 50%;\n",
              "      cursor: pointer;\n",
              "      display: none;\n",
              "      fill: #1967D2;\n",
              "      height: 32px;\n",
              "      padding: 0 0 0 0;\n",
              "      width: 32px;\n",
              "    }\n",
              "\n",
              "    .colab-df-convert:hover {\n",
              "      background-color: #E2EBFA;\n",
              "      box-shadow: 0px 1px 2px rgba(60, 64, 67, 0.3), 0px 1px 3px 1px rgba(60, 64, 67, 0.15);\n",
              "      fill: #174EA6;\n",
              "    }\n",
              "\n",
              "    .colab-df-buttons div {\n",
              "      margin-bottom: 4px;\n",
              "    }\n",
              "\n",
              "    [theme=dark] .colab-df-convert {\n",
              "      background-color: #3B4455;\n",
              "      fill: #D2E3FC;\n",
              "    }\n",
              "\n",
              "    [theme=dark] .colab-df-convert:hover {\n",
              "      background-color: #434B5C;\n",
              "      box-shadow: 0px 1px 3px 1px rgba(0, 0, 0, 0.15);\n",
              "      filter: drop-shadow(0px 1px 2px rgba(0, 0, 0, 0.3));\n",
              "      fill: #FFFFFF;\n",
              "    }\n",
              "  </style>\n",
              "\n",
              "    <script>\n",
              "      const buttonEl =\n",
              "        document.querySelector('#df-2e7554d6-5035-4ef7-866c-1bda8a24fd1f button.colab-df-convert');\n",
              "      buttonEl.style.display =\n",
              "        google.colab.kernel.accessAllowed ? 'block' : 'none';\n",
              "\n",
              "      async function convertToInteractive(key) {\n",
              "        const element = document.querySelector('#df-2e7554d6-5035-4ef7-866c-1bda8a24fd1f');\n",
              "        const dataTable =\n",
              "          await google.colab.kernel.invokeFunction('convertToInteractive',\n",
              "                                                    [key], {});\n",
              "        if (!dataTable) return;\n",
              "\n",
              "        const docLinkHtml = 'Like what you see? Visit the ' +\n",
              "          '<a target=\"_blank\" href=https://colab.research.google.com/notebooks/data_table.ipynb>data table notebook</a>'\n",
              "          + ' to learn more about interactive tables.';\n",
              "        element.innerHTML = '';\n",
              "        dataTable['output_type'] = 'display_data';\n",
              "        await google.colab.output.renderOutput(dataTable, element);\n",
              "        const docLink = document.createElement('div');\n",
              "        docLink.innerHTML = docLinkHtml;\n",
              "        element.appendChild(docLink);\n",
              "      }\n",
              "    </script>\n",
              "  </div>\n",
              "\n",
              "\n",
              "<div id=\"df-dbf07083-74ef-4bf4-8709-db66b6580bd2\">\n",
              "  <button class=\"colab-df-quickchart\" onclick=\"quickchart('df-dbf07083-74ef-4bf4-8709-db66b6580bd2')\"\n",
              "            title=\"Suggest charts.\"\n",
              "            style=\"display:none;\">\n",
              "\n",
              "<svg xmlns=\"http://www.w3.org/2000/svg\" height=\"24px\"viewBox=\"0 0 24 24\"\n",
              "     width=\"24px\">\n",
              "    <g>\n",
              "        <path d=\"M19 3H5c-1.1 0-2 .9-2 2v14c0 1.1.9 2 2 2h14c1.1 0 2-.9 2-2V5c0-1.1-.9-2-2-2zM9 17H7v-7h2v7zm4 0h-2V7h2v10zm4 0h-2v-4h2v4z\"/>\n",
              "    </g>\n",
              "</svg>\n",
              "  </button>\n",
              "\n",
              "<style>\n",
              "  .colab-df-quickchart {\n",
              "      --bg-color: #E8F0FE;\n",
              "      --fill-color: #1967D2;\n",
              "      --hover-bg-color: #E2EBFA;\n",
              "      --hover-fill-color: #174EA6;\n",
              "      --disabled-fill-color: #AAA;\n",
              "      --disabled-bg-color: #DDD;\n",
              "  }\n",
              "\n",
              "  [theme=dark] .colab-df-quickchart {\n",
              "      --bg-color: #3B4455;\n",
              "      --fill-color: #D2E3FC;\n",
              "      --hover-bg-color: #434B5C;\n",
              "      --hover-fill-color: #FFFFFF;\n",
              "      --disabled-bg-color: #3B4455;\n",
              "      --disabled-fill-color: #666;\n",
              "  }\n",
              "\n",
              "  .colab-df-quickchart {\n",
              "    background-color: var(--bg-color);\n",
              "    border: none;\n",
              "    border-radius: 50%;\n",
              "    cursor: pointer;\n",
              "    display: none;\n",
              "    fill: var(--fill-color);\n",
              "    height: 32px;\n",
              "    padding: 0;\n",
              "    width: 32px;\n",
              "  }\n",
              "\n",
              "  .colab-df-quickchart:hover {\n",
              "    background-color: var(--hover-bg-color);\n",
              "    box-shadow: 0 1px 2px rgba(60, 64, 67, 0.3), 0 1px 3px 1px rgba(60, 64, 67, 0.15);\n",
              "    fill: var(--button-hover-fill-color);\n",
              "  }\n",
              "\n",
              "  .colab-df-quickchart-complete:disabled,\n",
              "  .colab-df-quickchart-complete:disabled:hover {\n",
              "    background-color: var(--disabled-bg-color);\n",
              "    fill: var(--disabled-fill-color);\n",
              "    box-shadow: none;\n",
              "  }\n",
              "\n",
              "  .colab-df-spinner {\n",
              "    border: 2px solid var(--fill-color);\n",
              "    border-color: transparent;\n",
              "    border-bottom-color: var(--fill-color);\n",
              "    animation:\n",
              "      spin 1s steps(1) infinite;\n",
              "  }\n",
              "\n",
              "  @keyframes spin {\n",
              "    0% {\n",
              "      border-color: transparent;\n",
              "      border-bottom-color: var(--fill-color);\n",
              "      border-left-color: var(--fill-color);\n",
              "    }\n",
              "    20% {\n",
              "      border-color: transparent;\n",
              "      border-left-color: var(--fill-color);\n",
              "      border-top-color: var(--fill-color);\n",
              "    }\n",
              "    30% {\n",
              "      border-color: transparent;\n",
              "      border-left-color: var(--fill-color);\n",
              "      border-top-color: var(--fill-color);\n",
              "      border-right-color: var(--fill-color);\n",
              "    }\n",
              "    40% {\n",
              "      border-color: transparent;\n",
              "      border-right-color: var(--fill-color);\n",
              "      border-top-color: var(--fill-color);\n",
              "    }\n",
              "    60% {\n",
              "      border-color: transparent;\n",
              "      border-right-color: var(--fill-color);\n",
              "    }\n",
              "    80% {\n",
              "      border-color: transparent;\n",
              "      border-right-color: var(--fill-color);\n",
              "      border-bottom-color: var(--fill-color);\n",
              "    }\n",
              "    90% {\n",
              "      border-color: transparent;\n",
              "      border-bottom-color: var(--fill-color);\n",
              "    }\n",
              "  }\n",
              "</style>\n",
              "\n",
              "  <script>\n",
              "    async function quickchart(key) {\n",
              "      const quickchartButtonEl =\n",
              "        document.querySelector('#' + key + ' button');\n",
              "      quickchartButtonEl.disabled = true;  // To prevent multiple clicks.\n",
              "      quickchartButtonEl.classList.add('colab-df-spinner');\n",
              "      try {\n",
              "        const charts = await google.colab.kernel.invokeFunction(\n",
              "            'suggestCharts', [key], {});\n",
              "      } catch (error) {\n",
              "        console.error('Error during call to suggestCharts:', error);\n",
              "      }\n",
              "      quickchartButtonEl.classList.remove('colab-df-spinner');\n",
              "      quickchartButtonEl.classList.add('colab-df-quickchart-complete');\n",
              "    }\n",
              "    (() => {\n",
              "      let quickchartButtonEl =\n",
              "        document.querySelector('#df-dbf07083-74ef-4bf4-8709-db66b6580bd2 button');\n",
              "      quickchartButtonEl.style.display =\n",
              "        google.colab.kernel.accessAllowed ? 'block' : 'none';\n",
              "    })();\n",
              "  </script>\n",
              "</div>\n",
              "    </div>\n",
              "  </div>\n"
            ]
          },
          "metadata": {},
          "execution_count": 12
        }
      ]
    },
    {
      "cell_type": "markdown",
      "source": [
        "El conjunto de datos de entrenamiento ha sido cargado correctamente. Contiene varias características como battery_power, blue (Bluetooth), clock_speed, entre otras, y la variable objetivo price_range que indica el rango de precio del dispositivo móvil.\n",
        "\n",
        "El siguiente paso es construir el modelo de red neuronal con Keras."
      ],
      "metadata": {
        "id": "1c_CepF8v3Zd"
      }
    },
    {
      "cell_type": "code",
      "source": [
        "# Normalizar las características\n",
        "scaler = StandardScaler()\n",
        "X_train_normalized = scaler.fit_transform(X_train)\n",
        "X_test_normalized = scaler.transform(X_val)\n",
        "\n",
        "# Construcción del modelo\n",
        "model = Sequential([\n",
        "    Dense(128, activation='relu', input_shape=(X_train_normalized.shape[1],)),\n",
        "    Dense(64, activation='relu'),\n",
        "    Dense(32, activation='relu'),\n",
        "    Dense(4, activation='softmax')  # Hay 4 clases en price_range: 0, 1, 2, y 3\n",
        "])\n",
        "\n",
        "# Compilar el modelo usando el optimizador Adam como inicial\n",
        "model.compile(optimizer=Adam(), loss='sparse_categorical_crossentropy', metrics=['accuracy'])\n",
        "\n",
        "# Resumen del modelo\n",
        "model.summary()"
      ],
      "metadata": {
        "colab": {
          "base_uri": "https://localhost:8080/"
        },
        "id": "7nlBy9Kcv317",
        "outputId": "f0bb30a6-c7b9-4782-fc70-51d870819b29"
      },
      "execution_count": null,
      "outputs": [
        {
          "output_type": "stream",
          "name": "stdout",
          "text": [
            "Model: \"sequential_1\"\n",
            "_________________________________________________________________\n",
            " Layer (type)                Output Shape              Param #   \n",
            "=================================================================\n",
            " dense_4 (Dense)             (None, 128)               2688      \n",
            "                                                                 \n",
            " dense_5 (Dense)             (None, 64)                8256      \n",
            "                                                                 \n",
            " dense_6 (Dense)             (None, 32)                2080      \n",
            "                                                                 \n",
            " dense_7 (Dense)             (None, 4)                 132       \n",
            "                                                                 \n",
            "=================================================================\n",
            "Total params: 13156 (51.39 KB)\n",
            "Trainable params: 13156 (51.39 KB)\n",
            "Non-trainable params: 0 (0.00 Byte)\n",
            "_________________________________________________________________\n"
          ]
        }
      ]
    },
    {
      "cell_type": "markdown",
      "source": [
        "Se observa la configuración inicial de la red, con una estructura básica."
      ],
      "metadata": {
        "id": "rvTauF6hwVP6"
      }
    },
    {
      "cell_type": "markdown",
      "source": [
        "**Entrenamiento y precisión del modelo**"
      ],
      "metadata": {
        "id": "0Ln_Ovrtwm2a"
      }
    },
    {
      "cell_type": "code",
      "source": [
        "# Entrenamiento del modelo\n",
        "history = model.fit(X_train_normalized, y_train, validation_data=(X_test_normalized, y_val), epochs=20, batch_size=32, verbose=1)\n",
        "\n",
        "# Evaluación del modelo\n",
        "loss, accuracy = model.evaluate(X_val, y_val, verbose=0)\n",
        "print(f\"Accuracy: {accuracy * 100:.2f}%\")"
      ],
      "metadata": {
        "colab": {
          "base_uri": "https://localhost:8080/"
        },
        "id": "3T7WDzZLwYVH",
        "outputId": "dc48c97e-6131-4997-c848-d68424dad916"
      },
      "execution_count": null,
      "outputs": [
        {
          "output_type": "stream",
          "name": "stdout",
          "text": [
            "Epoch 1/20\n",
            "50/50 [==============================] - 2s 10ms/step - loss: 1.2351 - accuracy: 0.4769 - val_loss: 0.9446 - val_accuracy: 0.6450\n",
            "Epoch 2/20\n",
            "50/50 [==============================] - 0s 3ms/step - loss: 0.6801 - accuracy: 0.7725 - val_loss: 0.4405 - val_accuracy: 0.8475\n",
            "Epoch 3/20\n",
            "50/50 [==============================] - 0s 3ms/step - loss: 0.3307 - accuracy: 0.9000 - val_loss: 0.2939 - val_accuracy: 0.8950\n",
            "Epoch 4/20\n",
            "50/50 [==============================] - 0s 4ms/step - loss: 0.1993 - accuracy: 0.9419 - val_loss: 0.2256 - val_accuracy: 0.9125\n",
            "Epoch 5/20\n",
            "50/50 [==============================] - 0s 3ms/step - loss: 0.1523 - accuracy: 0.9488 - val_loss: 0.2136 - val_accuracy: 0.9125\n",
            "Epoch 6/20\n",
            "50/50 [==============================] - 0s 7ms/step - loss: 0.1092 - accuracy: 0.9706 - val_loss: 0.1890 - val_accuracy: 0.9300\n",
            "Epoch 7/20\n",
            "50/50 [==============================] - 0s 6ms/step - loss: 0.0926 - accuracy: 0.9744 - val_loss: 0.1904 - val_accuracy: 0.9100\n",
            "Epoch 8/20\n",
            "50/50 [==============================] - 0s 7ms/step - loss: 0.0736 - accuracy: 0.9825 - val_loss: 0.1729 - val_accuracy: 0.9375\n",
            "Epoch 9/20\n",
            "50/50 [==============================] - 0s 5ms/step - loss: 0.0567 - accuracy: 0.9906 - val_loss: 0.2070 - val_accuracy: 0.9325\n",
            "Epoch 10/20\n",
            "50/50 [==============================] - 0s 8ms/step - loss: 0.0469 - accuracy: 0.9919 - val_loss: 0.2020 - val_accuracy: 0.9125\n",
            "Epoch 11/20\n",
            "50/50 [==============================] - 0s 8ms/step - loss: 0.0358 - accuracy: 0.9956 - val_loss: 0.1826 - val_accuracy: 0.9250\n",
            "Epoch 12/20\n",
            "50/50 [==============================] - 0s 10ms/step - loss: 0.0267 - accuracy: 0.9981 - val_loss: 0.1920 - val_accuracy: 0.9325\n",
            "Epoch 13/20\n",
            "50/50 [==============================] - 1s 13ms/step - loss: 0.0238 - accuracy: 0.9987 - val_loss: 0.1836 - val_accuracy: 0.9325\n",
            "Epoch 14/20\n",
            "50/50 [==============================] - 0s 10ms/step - loss: 0.0168 - accuracy: 1.0000 - val_loss: 0.1817 - val_accuracy: 0.9350\n",
            "Epoch 15/20\n",
            "50/50 [==============================] - 1s 10ms/step - loss: 0.0134 - accuracy: 1.0000 - val_loss: 0.1867 - val_accuracy: 0.9250\n",
            "Epoch 16/20\n",
            "50/50 [==============================] - 1s 13ms/step - loss: 0.0108 - accuracy: 1.0000 - val_loss: 0.1829 - val_accuracy: 0.9350\n",
            "Epoch 17/20\n",
            "50/50 [==============================] - 0s 10ms/step - loss: 0.0088 - accuracy: 1.0000 - val_loss: 0.1857 - val_accuracy: 0.9400\n",
            "Epoch 18/20\n",
            "50/50 [==============================] - 0s 9ms/step - loss: 0.0074 - accuracy: 1.0000 - val_loss: 0.1897 - val_accuracy: 0.9350\n",
            "Epoch 19/20\n",
            "50/50 [==============================] - 1s 13ms/step - loss: 0.0064 - accuracy: 1.0000 - val_loss: 0.1867 - val_accuracy: 0.9425\n",
            "Epoch 20/20\n",
            "50/50 [==============================] - 1s 12ms/step - loss: 0.0054 - accuracy: 1.0000 - val_loss: 0.1919 - val_accuracy: 0.9375\n",
            "Accuracy: 93.50%\n"
          ]
        }
      ]
    },
    {
      "cell_type": "markdown",
      "source": [
        "Se observa que el accuracy de la red entrenada es del 92.5%. Podríamos probar distintos optimizadores y configuraciones de la red buscando incrementar el desempeño."
      ],
      "metadata": {
        "id": "mjIrcahGydoV"
      }
    },
    {
      "cell_type": "code",
      "source": [
        "# Generar 20 predicciones\n",
        "predictions = model.predict(X_val[:20])\n",
        "predicted_classes = np.argmax(predictions, axis=1)\n",
        "\n",
        "print(\"20 Predicciones:\", predicted_classes)\n",
        "print(\"Etiquetas Reales:\", y_val[:20])"
      ],
      "metadata": {
        "colab": {
          "base_uri": "https://localhost:8080/"
        },
        "id": "qAH9zWHhyWkx",
        "outputId": "b419d1da-96bf-45b6-e633-431112930a71"
      },
      "execution_count": null,
      "outputs": [
        {
          "output_type": "stream",
          "name": "stdout",
          "text": [
            "1/1 [==============================] - 0s 182ms/step\n",
            "20 Predicciones: [0 2 1 3 1 1 2 0 3 1 0 1 2 3 3 3 3 3 1 0]\n",
            "Etiquetas Reales: [0 2 1 3 1 1 2 0 3 1 0 0 2 3 3 2 3 3 1 0]\n"
          ]
        }
      ]
    },
    {
      "cell_type": "markdown",
      "source": [
        "Comparando ambas listas, podemos ver que el modelo cometió 2 errores en las 20 predicciones.\n",
        "\n",
        "Esto significa que el modelo tuvo un 90% de precisión en estas 20 predicciones, lo cual es bastante bueno. Sin embargo, es importante tener en cuenta que este es solo un subconjunto de los datos de prueba, y la precisión general del modelo puede variar cuando se evalúa en todo el conjunto de datos de prueba.\n",
        "\n",
        "Los resultados sugieren que el modelo es bastante efectivo en la clasificación de los rangos de precios de los dispositivos móviles, pero siempre hay margen de mejora. Podemos experimentar con diferentes arquitecturas de red, optimizadores, técnicas de regularización o incluso aumentar el número de épocas para ver si es posible mejorar aún más el rendimiento del modelo."
      ],
      "metadata": {
        "id": "-dXFgtq7y_S0"
      }
    },
    {
      "cell_type": "code",
      "source": [],
      "metadata": {
        "id": "ojDh3PMRy3Ov"
      },
      "execution_count": null,
      "outputs": []
    }
  ]
}