{
  "nbformat": 4,
  "nbformat_minor": 0,
  "metadata": {
    "colab": {
      "provenance": [],
      "gpuType": "T4"
    },
    "kernelspec": {
      "name": "python3",
      "display_name": "Python 3"
    },
    "language_info": {
      "name": "python"
    },
    "accelerator": "GPU"
  },
  "cells": [
    {
      "cell_type": "code",
      "execution_count": null,
      "metadata": {
        "colab": {
          "base_uri": "https://localhost:8080/"
        },
        "id": "ZyBcQXo-0rX8",
        "outputId": "a8f9439a-8af7-444d-f964-1485dc0633a5"
      },
      "outputs": [
        {
          "output_type": "stream",
          "name": "stdout",
          "text": [
            "Mounted at /content/drive\n"
          ]
        },
        {
          "output_type": "stream",
          "name": "stderr",
          "text": [
            "/usr/local/lib/python3.10/dist-packages/keras/src/layers/core/dense.py:87: UserWarning: Do not pass an `input_shape`/`input_dim` argument to a layer. When using Sequential models, prefer using an `Input(shape)` object as the first layer in the model instead.\n",
            "  super().__init__(activity_regularizer=activity_regularizer, **kwargs)\n"
          ]
        },
        {
          "output_type": "stream",
          "name": "stdout",
          "text": [
            "Epoch 1/20\n",
            "\u001b[1m50/50\u001b[0m \u001b[32m━━━━━━━━━━━━━━━━━━━━\u001b[0m\u001b[37m\u001b[0m \u001b[1m6s\u001b[0m 57ms/step - accuracy: 0.3585 - loss: 1.3532 - val_accuracy: 0.6375 - val_loss: 0.9008\n",
            "Epoch 2/20\n",
            "\u001b[1m50/50\u001b[0m \u001b[32m━━━━━━━━━━━━━━━━━━━━\u001b[0m\u001b[37m\u001b[0m \u001b[1m0s\u001b[0m 4ms/step - accuracy: 0.7110 - loss: 0.7663 - val_accuracy: 0.8850 - val_loss: 0.4274\n",
            "Epoch 3/20\n",
            "\u001b[1m50/50\u001b[0m \u001b[32m━━━━━━━━━━━━━━━━━━━━\u001b[0m\u001b[37m\u001b[0m \u001b[1m0s\u001b[0m 4ms/step - accuracy: 0.9063 - loss: 0.3713 - val_accuracy: 0.8975 - val_loss: 0.2721\n",
            "Epoch 4/20\n",
            "\u001b[1m50/50\u001b[0m \u001b[32m━━━━━━━━━━━━━━━━━━━━\u001b[0m\u001b[37m\u001b[0m \u001b[1m0s\u001b[0m 4ms/step - accuracy: 0.9225 - loss: 0.2415 - val_accuracy: 0.9100 - val_loss: 0.2281\n",
            "Epoch 5/20\n",
            "\u001b[1m50/50\u001b[0m \u001b[32m━━━━━━━━━━━━━━━━━━━━\u001b[0m\u001b[37m\u001b[0m \u001b[1m0s\u001b[0m 2ms/step - accuracy: 0.9524 - loss: 0.1602 - val_accuracy: 0.9075 - val_loss: 0.2040\n",
            "Epoch 6/20\n",
            "\u001b[1m50/50\u001b[0m \u001b[32m━━━━━━━━━━━━━━━━━━━━\u001b[0m\u001b[37m\u001b[0m \u001b[1m0s\u001b[0m 3ms/step - accuracy: 0.9729 - loss: 0.1162 - val_accuracy: 0.9200 - val_loss: 0.1808\n",
            "Epoch 7/20\n",
            "\u001b[1m50/50\u001b[0m \u001b[32m━━━━━━━━━━━━━━━━━━━━\u001b[0m\u001b[37m\u001b[0m \u001b[1m0s\u001b[0m 2ms/step - accuracy: 0.9819 - loss: 0.0881 - val_accuracy: 0.9200 - val_loss: 0.2129\n",
            "Epoch 8/20\n",
            "\u001b[1m50/50\u001b[0m \u001b[32m━━━━━━━━━━━━━━━━━━━━\u001b[0m\u001b[37m\u001b[0m \u001b[1m0s\u001b[0m 2ms/step - accuracy: 0.9792 - loss: 0.0811 - val_accuracy: 0.9225 - val_loss: 0.1735\n",
            "Epoch 9/20\n",
            "\u001b[1m50/50\u001b[0m \u001b[32m━━━━━━━━━━━━━━━━━━━━\u001b[0m\u001b[37m\u001b[0m \u001b[1m0s\u001b[0m 3ms/step - accuracy: 0.9914 - loss: 0.0580 - val_accuracy: 0.9250 - val_loss: 0.1701\n",
            "Epoch 10/20\n",
            "\u001b[1m50/50\u001b[0m \u001b[32m━━━━━━━━━━━━━━━━━━━━\u001b[0m\u001b[37m\u001b[0m \u001b[1m0s\u001b[0m 2ms/step - accuracy: 0.9944 - loss: 0.0431 - val_accuracy: 0.9200 - val_loss: 0.1777\n",
            "Epoch 11/20\n",
            "\u001b[1m50/50\u001b[0m \u001b[32m━━━━━━━━━━━━━━━━━━━━\u001b[0m\u001b[37m\u001b[0m \u001b[1m0s\u001b[0m 3ms/step - accuracy: 0.9981 - loss: 0.0330 - val_accuracy: 0.9225 - val_loss: 0.1904\n",
            "Epoch 12/20\n",
            "\u001b[1m50/50\u001b[0m \u001b[32m━━━━━━━━━━━━━━━━━━━━\u001b[0m\u001b[37m\u001b[0m \u001b[1m0s\u001b[0m 2ms/step - accuracy: 0.9991 - loss: 0.0295 - val_accuracy: 0.9200 - val_loss: 0.1930\n",
            "Epoch 13/20\n",
            "\u001b[1m50/50\u001b[0m \u001b[32m━━━━━━━━━━━━━━━━━━━━\u001b[0m\u001b[37m\u001b[0m \u001b[1m0s\u001b[0m 2ms/step - accuracy: 0.9999 - loss: 0.0239 - val_accuracy: 0.9150 - val_loss: 0.1901\n",
            "Epoch 14/20\n",
            "\u001b[1m50/50\u001b[0m \u001b[32m━━━━━━━━━━━━━━━━━━━━\u001b[0m\u001b[37m\u001b[0m \u001b[1m0s\u001b[0m 2ms/step - accuracy: 0.9998 - loss: 0.0210 - val_accuracy: 0.9225 - val_loss: 0.2038\n",
            "Epoch 15/20\n",
            "\u001b[1m50/50\u001b[0m \u001b[32m━━━━━━━━━━━━━━━━━━━━\u001b[0m\u001b[37m\u001b[0m \u001b[1m0s\u001b[0m 2ms/step - accuracy: 1.0000 - loss: 0.0125 - val_accuracy: 0.9250 - val_loss: 0.1944\n",
            "Epoch 16/20\n",
            "\u001b[1m50/50\u001b[0m \u001b[32m━━━━━━━━━━━━━━━━━━━━\u001b[0m\u001b[37m\u001b[0m \u001b[1m0s\u001b[0m 2ms/step - accuracy: 1.0000 - loss: 0.0116 - val_accuracy: 0.9225 - val_loss: 0.2213\n",
            "Epoch 17/20\n",
            "\u001b[1m50/50\u001b[0m \u001b[32m━━━━━━━━━━━━━━━━━━━━\u001b[0m\u001b[37m\u001b[0m \u001b[1m0s\u001b[0m 2ms/step - accuracy: 1.0000 - loss: 0.0088 - val_accuracy: 0.9300 - val_loss: 0.2344\n",
            "Epoch 18/20\n",
            "\u001b[1m50/50\u001b[0m \u001b[32m━━━━━━━━━━━━━━━━━━━━\u001b[0m\u001b[37m\u001b[0m \u001b[1m0s\u001b[0m 3ms/step - accuracy: 1.0000 - loss: 0.0085 - val_accuracy: 0.9275 - val_loss: 0.2153\n",
            "Epoch 19/20\n",
            "\u001b[1m50/50\u001b[0m \u001b[32m━━━━━━━━━━━━━━━━━━━━\u001b[0m\u001b[37m\u001b[0m \u001b[1m0s\u001b[0m 2ms/step - accuracy: 1.0000 - loss: 0.0072 - val_accuracy: 0.9250 - val_loss: 0.2298\n",
            "Epoch 20/20\n",
            "\u001b[1m50/50\u001b[0m \u001b[32m━━━━━━━━━━━━━━━━━━━━\u001b[0m\u001b[37m\u001b[0m \u001b[1m0s\u001b[0m 2ms/step - accuracy: 1.0000 - loss: 0.0056 - val_accuracy: 0.9275 - val_loss: 0.2330\n"
          ]
        },
        {
          "output_type": "execute_result",
          "data": {
            "text/plain": [
              "<keras.src.callbacks.history.History at 0x7da4ca05d600>"
            ]
          },
          "metadata": {},
          "execution_count": 1
        }
      ],
      "source": [
        "# Montar Google Drive\n",
        "from google.colab import drive\n",
        "drive.mount('/content/drive')\n",
        "\n",
        "# Importar librerías necesarias\n",
        "import pandas as pd\n",
        "from sklearn.model_selection import train_test_split\n",
        "from sklearn.preprocessing import StandardScaler\n",
        "from tensorflow.keras.models import Sequential\n",
        "from tensorflow.keras.layers import Dense\n",
        "from tensorflow.keras.optimizers import Adam\n",
        "\n",
        "# Ruta a los archivos en Google Drive\n",
        "train_path = '/content/drive/MyDrive/M5-UDD/Clase 1/train.csv'\n",
        "\n",
        "# Cargar el dataset de entrenamiento\n",
        "train_data = pd.read_csv(train_path)\n",
        "\n",
        "# Separar características y etiquetas\n",
        "X = train_data.drop(\"price_range\", axis=1)\n",
        "y = train_data[\"price_range\"]\n",
        "\n",
        "# Dividir datos en conjuntos de entrenamiento y validación\n",
        "X_train, X_val, y_train, y_val = train_test_split(X, y, test_size=0.2, random_state=42)\n",
        "\n",
        "# Normalizar los datos\n",
        "scaler = StandardScaler()\n",
        "X_train_normalized = scaler.fit_transform(X_train)\n",
        "X_val_normalized = scaler.transform(X_val)\n",
        "\n",
        "# Construir y entrenar el modelo\n",
        "model = Sequential([\n",
        "    Dense(128, activation='relu', input_shape=(X_train_normalized.shape[1],)),\n",
        "    Dense(64, activation='relu'),\n",
        "    Dense(32, activation='relu'),\n",
        "    Dense(4, activation='softmax')\n",
        "])\n",
        "model.compile(optimizer=Adam(learning_rate=0.001), loss='sparse_categorical_crossentropy', metrics=['accuracy'])\n",
        "model.fit(X_train_normalized, y_train, epochs=20, batch_size=32, validation_data=(X_val_normalized, y_val), verbose=1)\n"
      ]
    },
    {
      "cell_type": "code",
      "source": [
        "from sklearn.metrics import confusion_matrix, classification_report\n",
        "import numpy as np\n",
        "import seaborn as sns\n",
        "import matplotlib.pyplot as plt\n",
        "\n",
        "# Generar matriz de confusión y reporte de clasificación en validación\n",
        "y_val_pred_probs = model.predict(X_val_normalized)\n",
        "y_val_pred = np.argmax(y_val_pred_probs, axis=1)\n",
        "conf_matrix = confusion_matrix(y_val, y_val_pred)\n",
        "\n",
        "# Visualizar la matriz de confusión\n",
        "plt.figure(figsize=(8, 6))\n",
        "sns.heatmap(conf_matrix, annot=True, fmt=\"d\", cmap=\"Blues\", xticklabels=[\"Clase 0\", \"Clase 1\", \"Clase 2\", \"Clase 3\"], yticklabels=[\"Clase 0\", \"Clase 1\", \"Clase 2\", \"Clase 3\"])\n",
        "plt.title(\"Matriz de Confusión en Validación\")\n",
        "plt.xlabel(\"Predicción\")\n",
        "plt.ylabel(\"Etiqueta Verdadera\")\n",
        "plt.show()\n",
        "\n",
        "# Reporte de clasificación\n",
        "print(\"Reporte de Clasificación en Validación:\")\n",
        "print(classification_report(y_val, y_val_pred, target_names=[\"Clase 0\", \"Clase 1\", \"Clase 2\", \"Clase 3\"]))"
      ],
      "metadata": {
        "colab": {
          "base_uri": "https://localhost:8080/",
          "height": 790
        },
        "id": "BzSNRVjmojrf",
        "outputId": "e44707a6-bfae-4b19-fe12-ecc4551fbcc4"
      },
      "execution_count": null,
      "outputs": [
        {
          "output_type": "stream",
          "name": "stdout",
          "text": [
            "\u001b[1m13/13\u001b[0m \u001b[32m━━━━━━━━━━━━━━━━━━━━\u001b[0m\u001b[37m\u001b[0m \u001b[1m0s\u001b[0m 2ms/step \n"
          ]
        },
        {
          "output_type": "display_data",
          "data": {
            "text/plain": [
              "<Figure size 800x600 with 2 Axes>"
            ],
            "image/png": "[encoded data removed]"
          },
          "metadata": {}
        },
        {
          "output_type": "stream",
          "name": "stdout",
          "text": [
            "Reporte de Clasificación en Validación:\n",
            "              precision    recall  f1-score   support\n",
            "\n",
            "     Clase 0       0.97      0.92      0.95       105\n",
            "     Clase 1       0.86      0.96      0.91        91\n",
            "     Clase 2       0.94      0.86      0.90        92\n",
            "     Clase 3       0.94      0.96      0.95       112\n",
            "\n",
            "    accuracy                           0.93       400\n",
            "   macro avg       0.93      0.93      0.93       400\n",
            "weighted avg       0.93      0.93      0.93       400\n",
            "\n"
          ]
        }
      ]
    },
    {
      "cell_type": "code",
      "source": [
        "# Predicciones con el archivo test\n",
        "\n",
        "# Ruta al archivo de prueba en Google Drive\n",
        "test_path = '/content/drive/MyDrive/M5-UDD/Clase 1/test.csv'\n",
        "\n",
        "# Cargar el dataset de prueba\n",
        "test_data = pd.read_csv(test_path)\n",
        "\n",
        "# Normalizar los datos del conjunto de prueba\n",
        "X_test = test_data.drop(\"id\", axis=1)  # Eliminar la columna 'id'\n",
        "X_test_normalized = scaler.transform(X_test)\n",
        "\n",
        "# Generar predicciones para las primeras 20 muestras del conjunto de prueba\n",
        "predictions_probs = model.predict(X_test_normalized[:20])\n",
        "predicted_classes = np.argmax(predictions_probs, axis=1)\n",
        "\n",
        "# Mostrar las predicciones\n",
        "print(\"Predicciones para las primeras 20 muestras del conjunto de prueba:\")\n",
        "print(predicted_classes)\n",
        "\n"
      ],
      "metadata": {
        "colab": {
          "base_uri": "https://localhost:8080/"
        },
        "id": "DFYARa9y1Kl2",
        "outputId": "8e0942d5-2c66-4dc3-8b9b-41003298e884"
      },
      "execution_count": null,
      "outputs": [
        {
          "output_type": "stream",
          "name": "stdout",
          "text": [
            "\u001b[1m1/1\u001b[0m \u001b[32m━━━━━━━━━━━━━━━━━━━━\u001b[0m\u001b[37m\u001b[0m \u001b[1m0s\u001b[0m 374ms/step\n",
            "Predicciones para las primeras 20 muestras del conjunto de prueba:\n",
            "[3 3 2 3 1 3 3 1 3 0 3 3 0 0 2 0 2 1 3 2]\n"
          ]
        }
      ]
    }
  ]
}